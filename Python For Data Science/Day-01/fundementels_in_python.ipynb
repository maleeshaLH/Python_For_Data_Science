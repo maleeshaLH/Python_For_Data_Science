{
 "cells": [
  {
   "cell_type": "code",
   "execution_count": 7,
   "metadata": {},
   "outputs": [
    {
     "name": "stdout",
     "output_type": "stream",
     "text": [
      "The type of variable having value 10 is <class 'int'>\n"
     ]
    }
   ],
   "source": [
    "a = 10\n",
    "print(\"The type of variable having value\", a ,\"is\", type(a))"
   ]
  },
  {
   "cell_type": "code",
   "execution_count": 8,
   "metadata": {},
   "outputs": [
    {
     "name": "stdout",
     "output_type": "stream",
     "text": [
      "25000.0 is of type <class 'float'>\n"
     ]
    }
   ],
   "source": [
    "#scientific notation\n",
    "a = 2.5e4\n",
    "print(a, \"is of type\", type(a))"
   ]
  },
  {
   "cell_type": "code",
   "execution_count": 9,
   "metadata": {},
   "outputs": [
    {
     "name": "stdout",
     "output_type": "stream",
     "text": [
      "5.0 is of type <class 'float'>\n"
     ]
    }
   ],
   "source": [
    "a = 5\n",
    "b = float(a)\n",
    "print(b, \"is of type\", type(b))"
   ]
  },
  {
   "cell_type": "code",
   "execution_count": 10,
   "metadata": {},
   "outputs": [
    {
     "name": "stdout",
     "output_type": "stream",
     "text": [
      "7 is of type <class 'int'>\n"
     ]
    }
   ],
   "source": [
    "c = 7.0\n",
    "d = int(c)\n",
    "print(d, \"is of type\", type(d))"
   ]
  },
  {
   "cell_type": "code",
   "execution_count": 11,
   "metadata": {},
   "outputs": [
    {
     "name": "stdout",
     "output_type": "stream",
     "text": [
      "[10, 20, 'Cat', 40, 50, True] <class 'list'>\n",
      "Cat\n"
     ]
    }
   ],
   "source": [
    "my_list = [10, 20, \"Cat\", 40, 50, True]\n",
    "print(my_list, type(my_list))\n",
    "print(my_list[2])"
   ]
  },
  {
   "cell_type": "code",
   "execution_count": 12,
   "metadata": {},
   "outputs": [
    {
     "name": "stdout",
     "output_type": "stream",
     "text": [
      "[10, 20, 'Dog', 40, 50, False]\n"
     ]
    }
   ],
   "source": [
    "#python list are changeable, meaning that we can change, add, and remove items in a list after it has been created.\n",
    "my_list = [10, 20, \"Cat\", 40, 50, True]\n",
    "my_list[2] = \"Dog\"\n",
    "my_list[5] = False\n",
    "print(my_list)"
   ]
  },
  {
   "cell_type": "code",
   "execution_count": 13,
   "metadata": {},
   "outputs": [
    {
     "name": "stdout",
     "output_type": "stream",
     "text": [
      "[1, 2, 3, 4, 5, 6]\n"
     ]
    }
   ],
   "source": [
    "#python list are ordered\n",
    "my_list = [1,2,3,4,5]\n",
    "my_list.append(6)\n",
    "print(my_list)"
   ]
  },
  {
   "cell_type": "code",
   "execution_count": 14,
   "metadata": {},
   "outputs": [
    {
     "name": "stdout",
     "output_type": "stream",
     "text": [
      "5\n"
     ]
    }
   ],
   "source": [
    "my_list = [1, 2, 3, 4, 5]\n",
    "print(len(my_list))"
   ]
  },
  {
   "cell_type": "code",
   "execution_count": 15,
   "metadata": {},
   "outputs": [
    {
     "name": "stdout",
     "output_type": "stream",
     "text": [
      "5\n",
      "3\n"
     ]
    }
   ],
   "source": [
    "#Negative indexing in python\n",
    "my_list = [1, 2, 3, 4, 5]\n",
    "print(my_list[-1]) \n",
    "print(my_list[-3])"
   ]
  },
  {
   "cell_type": "code",
   "execution_count": 16,
   "metadata": {},
   "outputs": [
    {
     "name": "stdout",
     "output_type": "stream",
     "text": [
      "[2, 3, 4] <class 'list'>\n"
     ]
    }
   ],
   "source": [
    "my_list = [1, 2, 3, 4, 5]\n",
    "print(my_list[1:4], type(my_list[1:4]))"
   ]
  },
  {
   "cell_type": "code",
   "execution_count": 17,
   "metadata": {},
   "outputs": [
    {
     "name": "stdout",
     "output_type": "stream",
     "text": [
      "[1, 2, 3]\n",
      "[4, 5]\n"
     ]
    }
   ],
   "source": [
    "my_list = [1, 2, 3, 4, 5]\n",
    "print(my_list[:3])\n",
    "print(my_list[3:])"
   ]
  },
  {
   "cell_type": "code",
   "execution_count": 3,
   "metadata": {},
   "outputs": [
    {
     "name": "stdout",
     "output_type": "stream",
     "text": [
      "[10, 'Parrot', 17.0, 'Dog', True]\n"
     ]
    }
   ],
   "source": [
    "#Exercise\n",
    "my_list = [10, 5, \"Cat\", \"Dog\", True]\n",
    "my_list [1:3] = [\"Parrot\", 17.0] \n",
    "print(my_list)\n"
   ]
  },
  {
   "cell_type": "code",
   "execution_count": 5,
   "metadata": {},
   "outputs": [
    {
     "name": "stdout",
     "output_type": "stream",
     "text": [
      "[10, 5, 'Rat', 'Cat', 'Dog', True] length is 6\n"
     ]
    }
   ],
   "source": [
    "#Insert an element at a specific position in a list\n",
    "my_list = [10, 5, \"Cat\", \"Dog\", True]\n",
    "my_list.insert(2, \"Rat\")\n",
    "print(my_list,\"length is\", len(my_list))"
   ]
  },
  {
   "cell_type": "code",
   "execution_count": 20,
   "metadata": {},
   "outputs": [
    {
     "name": "stdout",
     "output_type": "stream",
     "text": [
      "[10, 5, 'Cat', 'Dog', True, 'Carrot']\n"
     ]
    }
   ],
   "source": [
    "#Append new items to the end of the list\n",
    "my_list = [10, 5, \"Cat\", \"Dog\", True]\n",
    "my_list.append(\"Carrot\")\n",
    "print(my_list)"
   ]
  },
  {
   "cell_type": "code",
   "execution_count": 21,
   "metadata": {},
   "outputs": [
    {
     "name": "stdout",
     "output_type": "stream",
     "text": [
      "[1, 2, 3, 4, 5, 6, 7, 8, 9, 10] \n",
      "Length is 10\n"
     ]
    }
   ],
   "source": [
    "#Append new list to the existing list\n",
    "list1 = [1,2,3,4,5]\n",
    "list2 = [6,7,8,9,10]\n",
    "list1.extend(list2)\n",
    "print(list1, \"\\n\" \"Length is\", len(list1))"
   ]
  },
  {
   "cell_type": "code",
   "execution_count": 22,
   "metadata": {},
   "outputs": [
    {
     "name": "stdout",
     "output_type": "stream",
     "text": [
      "[1, 2, 4, 5] \n",
      "Length is 4\n"
     ]
    }
   ],
   "source": [
    "#Remove an element from a list\n",
    "my_list = [1, 2, 3, 4, 5]\n",
    "my_list.pop(2)\n",
    "print(my_list, \"\\n\" \"Length is\", len(my_list))"
   ]
  },
  {
   "cell_type": "code",
   "execution_count": 23,
   "metadata": {},
   "outputs": [
    {
     "name": "stdout",
     "output_type": "stream",
     "text": [
      "['p', 'r']\n"
     ]
    }
   ],
   "source": [
    "#Delete items from a list\n",
    "my_list = ['p','r','o','b','l','e','m']\n",
    "del my_list[2:]\n",
    "print(my_list)"
   ]
  },
  {
   "cell_type": "code",
   "execution_count": 6,
   "metadata": {},
   "outputs": [
    {
     "ename": "NameError",
     "evalue": "name 'my_list' is not defined",
     "output_type": "error",
     "traceback": [
      "\u001b[1;31m---------------------------------------------------------------------------\u001b[0m",
      "\u001b[1;31mNameError\u001b[0m                                 Traceback (most recent call last)",
      "Cell \u001b[1;32mIn[6], line 4\u001b[0m\n\u001b[0;32m      2\u001b[0m my_list \u001b[38;5;241m=\u001b[39m [\u001b[38;5;241m1\u001b[39m, \u001b[38;5;241m2\u001b[39m, \u001b[38;5;241m3\u001b[39m, \u001b[38;5;241m4\u001b[39m, \u001b[38;5;241m5\u001b[39m]\n\u001b[0;32m      3\u001b[0m \u001b[38;5;28;01mdel\u001b[39;00m my_list\n\u001b[1;32m----> 4\u001b[0m \u001b[38;5;28mprint\u001b[39m(\u001b[43mmy_list\u001b[49m)\n",
      "\u001b[1;31mNameError\u001b[0m: name 'my_list' is not defined"
     ]
    }
   ],
   "source": [
    "#Delete full list\n",
    "my_list = [1, 2, 3, 4, 5]\n",
    "del my_list\n",
    "print(my_list)"
   ]
  },
  {
   "cell_type": "code",
   "execution_count": 25,
   "metadata": {},
   "outputs": [
    {
     "name": "stdout",
     "output_type": "stream",
     "text": [
      "[] \n",
      "Length is 0\n"
     ]
    }
   ],
   "source": [
    "#Clear the list all values\n",
    "my_list = [1, 2, 3, 4, 5]\n",
    "my_list.clear()\n",
    "print(my_list, \"\\n\" \"Length is\", len(my_list))"
   ]
  },
  {
   "cell_type": "code",
   "execution_count": 26,
   "metadata": {},
   "outputs": [
    {
     "name": "stdout",
     "output_type": "stream",
     "text": [
      "['C', 'a', 'b', 'd', 'e']\n"
     ]
    }
   ],
   "source": [
    "#Case sensitive sorting in alphabetical order\n",
    "my_list = ['e','d','C','b','a']\n",
    "my_list.sort()\n",
    "print(my_list)"
   ]
  },
  {
   "cell_type": "code",
   "execution_count": 27,
   "metadata": {},
   "outputs": [
    {
     "name": "stdout",
     "output_type": "stream",
     "text": [
      "['a', 'B', 'c', 'D']\n"
     ]
    }
   ],
   "source": [
    "#Case insensitive sorting in alphabetical order\n",
    "my_list = ['D', 'c', 'B', 'a']\n",
    "my_list.sort(key=str.lower)\n",
    "print(my_list)"
   ]
  },
  {
   "cell_type": "code",
   "execution_count": 28,
   "metadata": {},
   "outputs": [
    {
     "name": "stdout",
     "output_type": "stream",
     "text": [
      "[3, 5, 8, 10, 25]\n"
     ]
    }
   ],
   "source": [
    "#Numeric sort in ascending order\n",
    "my_list = [5, 3, 10, 25, 8]\n",
    "my_list.sort()\n",
    "print(my_list)"
   ]
  },
  {
   "cell_type": "code",
   "execution_count": 29,
   "metadata": {},
   "outputs": [
    {
     "name": "stdout",
     "output_type": "stream",
     "text": [
      "[25, 10, 8, 5, 3]\n"
     ]
    }
   ],
   "source": [
    "#Numeric sort in descending order\n",
    "my_list = [5, 3, 10, 25, 8]\n",
    "my_list.sort(reverse=True)\n",
    "print(my_list)"
   ]
  },
  {
   "cell_type": "code",
   "execution_count": 30,
   "metadata": {},
   "outputs": [
    {
     "name": "stdout",
     "output_type": "stream",
     "text": [
      "[12, 10, 13, 4, 1, 5, 6, 1, 7, 8, 10]\n",
      "[1, 1, 4, 5, 6, 7, 8, 10, 10, 12, 13]\n",
      "Median is  7\n",
      "Q1 is  4\n",
      "Q3 is  10\n"
     ]
    }
   ],
   "source": [
    "#Exercise: Write a Python program to find the median, Q1 and Q3 of a given list of numbers.\n",
    "my_list_1 = [12, 10, 13, 4, 1, 5]\n",
    "my_list_2 = [6, 1, 7, 8, 10]\n",
    "\n",
    "#Append the two lists\n",
    "my_list_1.extend(my_list_2)\n",
    "print(my_list_1)\n",
    "\n",
    "#Find the median of the list\n",
    "my_list_1.sort()\n",
    "print(my_list_1)\n",
    "median = my_list_1[len(my_list_1) // 2]\n",
    "print(\"Median is \", median)\n",
    "\n",
    "#Find Q1 in the list\n",
    "q1 = my_list_1[len(my_list_1) // 4]\n",
    "print(\"Q1 is \", q1)\n",
    "\n",
    "#Find Q3 in the list\n",
    "q3 = my_list_1[3 * len(my_list_1) // 4]\n",
    "print(\"Q3 is \", q3)"
   ]
  }
 ],
 "metadata": {
  "kernelspec": {
   "display_name": "Python 3",
   "language": "python",
   "name": "python3"
  },
  "language_info": {
   "codemirror_mode": {
    "name": "ipython",
    "version": 3
   },
   "file_extension": ".py",
   "mimetype": "text/x-python",
   "name": "python",
   "nbconvert_exporter": "python",
   "pygments_lexer": "ipython3",
   "version": "3.13.0"
  }
 },
 "nbformat": 4,
 "nbformat_minor": 2
}
