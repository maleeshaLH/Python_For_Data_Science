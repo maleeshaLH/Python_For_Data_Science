{
 "cells": [
  {
   "cell_type": "code",
   "execution_count": 1,
   "metadata": {},
   "outputs": [
    {
     "name": "stdout",
     "output_type": "stream",
     "text": [
      "(1, 2, 3, 4, 5) <class 'tuple'>\n"
     ]
    }
   ],
   "source": [
    "#Arbitrary arguments\n",
    "def my_function(*args):\n",
    "    print(args, type(args))\n",
    "\n",
    "my_function(1, 2, 3, 4, 5)"
   ]
  },
  {
   "cell_type": "markdown",
   "metadata": {},
   "source": []
  },
  {
   "cell_type": "code",
   "execution_count": 2,
   "metadata": {},
   "outputs": [
    {
     "name": "stdout",
     "output_type": "stream",
     "text": [
      "1\n",
      "2\n",
      "3\n",
      "4\n",
      "5\n"
     ]
    }
   ],
   "source": [
    "#Exercise-1\n",
    "def my_function(*args):\n",
    "    for i in args:\n",
    "        print(i)\n",
    "\n",
    "my_function(1, 2, 3, 4, 5)"
   ]
  },
  {
   "cell_type": "code",
   "execution_count": 8,
   "metadata": {},
   "outputs": [
    {
     "name": "stdout",
     "output_type": "stream",
     "text": [
      "Student Name: Sara\n",
      "No grades available\n",
      "\n",
      "Student Name: John\n",
      "Highest grade: 90\n",
      "Lowest grade: 67\n",
      "Average grade: 82.4\n"
     ]
    }
   ],
   "source": [
    "#Exercise-2\n",
    "#Write a python function called summarize that accept a student name as a mandatory argument an arbitrary number of grade scores. The function should,\n",
    "#1. print the student name\n",
    "#2. calculate & print highest grade, lowest grade and average grade from provided grades\n",
    "#3. if no grade are provide you should print \"No grades available\"\n",
    "\n",
    "def summarize(name, *grades):\n",
    "    print(\"Student Name:\", name)\n",
    "    if not grades:\n",
    "        print(\"No grades available\")\n",
    "    else:\n",
    "        print(\"Highest grade:\", max(grades))\n",
    "        print(\"Lowest grade:\", min(grades))\n",
    "        print(\"Average grade:\", sum(grades)/len(grades))\n",
    "\n",
    "summarize(\"Sara\")\n",
    "print()\n",
    "summarize(\"John\", 88, 78, 90, 67, 89)\n"
   ]
  },
  {
   "cell_type": "code",
   "execution_count": null,
   "metadata": {},
   "outputs": [
    {
     "name": "stdout",
     "output_type": "stream",
     "text": [
      "{'name': 'John', 'age': 25, 'city': 'New York'} <class 'dict'>\n",
      "name : John\n",
      "age : 25\n",
      "city : New York\n"
     ]
    }
   ],
   "source": [
    "#Arbitrary keyword arguments\n",
    "def my_function(**kwargs):\n",
    "    print(kwargs, type(kwargs))\n",
    "    for key, value in kwargs.items():\n",
    "        print(key, \":\", value)\n",
    "\n",
    "my_function(name=\"John\", age=25, city=\"New York\")"
   ]
  },
  {
   "cell_type": "code",
   "execution_count": null,
   "metadata": {},
   "outputs": [
    {
     "name": "stdout",
     "output_type": "stream",
     "text": [
      "Employee Name: John\n",
      "age : 25\n",
      "city : New York\n",
      "phone : 1234567890\n"
     ]
    },
    {
     "data": {
      "text/plain": [
       "('John', {'age': 25, 'city': 'New York', 'phone': '1234567890'})"
      ]
     },
     "execution_count": 19,
     "metadata": {},
     "output_type": "execute_result"
    }
   ],
   "source": [
    "#Exercise-3\n",
    "#Write a python function called employee_info that accept a required 'name' parameter and arbitrary number of keyword arguments representing additional details about an employee. The function should,\n",
    "#1.print the employee name\n",
    "#2.iterate through the keyword arguments and print each key-value pair in the format \"<key>: <value>\"\n",
    "#3.modify the employee_info function to return a dictionary containing all the employee details(including name and the additional attributes pass via kwargs)\n",
    "\n",
    "def employee_info(name, **kwargs):\n",
    "    print(\"Employee Name:\", name)\n",
    "    for key, value in kwargs.items():\n",
    "        print(key, \":\", value)\n",
    "    return name, kwargs\n",
    "\n",
    "employee_info(\"John\", age=25, city=\"New York\", phone=\"1234567890\")"
   ]
  },
  {
   "cell_type": "code",
   "execution_count": 25,
   "metadata": {},
   "outputs": [
    {
     "name": "stdout",
     "output_type": "stream",
     "text": [
      "<map object at 0x000001D5557988E0> <class 'map'>\n",
      "[1, 4, 9, 16, 25]\n"
     ]
    }
   ],
   "source": [
    "#Built-in functions\n",
    "#Map\n",
    "def square(x):\n",
    "    return (x*x)\n",
    "\n",
    "numbers = [1, 2, 3, 4, 5]\n",
    "result = map(square, numbers)\n",
    "print(result, type(result))\n",
    "print(list(result))"
   ]
  },
  {
   "cell_type": "code",
   "execution_count": null,
   "metadata": {},
   "outputs": [
    {
     "name": "stdout",
     "output_type": "stream",
     "text": [
      "[14, 11, 11, 7]\n"
     ]
    }
   ],
   "source": [
    "#Exercise-4\n",
    "def add(list1, list2):\n",
    "    return list1 + list2\n",
    "\n",
    "list1 = [10, 8, 5, 6]\n",
    "list2 = [4, 3, 6, 1]\n",
    "\n",
    "result = map(add, list1, list2)\n",
    "print(list(result))"
   ]
  },
  {
   "cell_type": "code",
   "execution_count": null,
   "metadata": {},
   "outputs": [
    {
     "name": "stdout",
     "output_type": "stream",
     "text": [
      "[73.4, 86.0, 77.0, 64.4, 80.6]\n"
     ]
    }
   ],
   "source": [
    "#Exercise-5\n",
    "#You have a list of integers, representing temperatures, write a python function using to convert these temperatures to Fahrenheit.\n",
    "def to_fahrenheit(celsius):\n",
    "    return (celsius * 9/5) + 32\n",
    "\n",
    "temperatures = [23, 30, 25, 18, 27]\n",
    "result = map(to_fahrenheit, temperatures)\n",
    "print(list(result))"
   ]
  },
  {
   "cell_type": "code",
   "execution_count": 31,
   "metadata": {},
   "outputs": [
    {
     "name": "stdout",
     "output_type": "stream",
     "text": [
      "<filter object at 0x000001D55579BE80> <class 'filter'>\n",
      "[2, 4, 6, 8, 10]\n"
     ]
    }
   ],
   "source": [
    "#Filter\n",
    "def is_even(x):\n",
    "    return x % 2 == 0\n",
    "\n",
    "numbers = [1, 2, 3, 4, 5, 6, 7, 8, 9, 10]\n",
    "result = filter(is_even, numbers)\n",
    "print(result, type(result))\n",
    "print(list(result))"
   ]
  },
  {
   "cell_type": "code",
   "execution_count": 34,
   "metadata": {},
   "outputs": [
    {
     "name": "stdout",
     "output_type": "stream",
     "text": [
      "8\n"
     ]
    }
   ],
   "source": [
    "#Lambda functions\n",
    "add = lambda x, y: x + y\n",
    "print(add(5, 3))"
   ]
  },
  {
   "cell_type": "code",
   "execution_count": 36,
   "metadata": {},
   "outputs": [
    {
     "name": "stdout",
     "output_type": "stream",
     "text": [
      "25\n"
     ]
    }
   ],
   "source": [
    "#Exercise-6\n",
    "#Write a python function using lambda to return a power of two of a given number\n",
    "power = lambda x: x**2\n",
    "print(power(5))"
   ]
  },
  {
   "cell_type": "code",
   "execution_count": 41,
   "metadata": {},
   "outputs": [
    {
     "name": "stdout",
     "output_type": "stream",
     "text": [
      "[('John', 17), ('Kate', 15)]\n"
     ]
    }
   ],
   "source": [
    "#Exercise-7\n",
    "#Write a python program that,\n",
    "#1.takes a list of tuples, where each tuple contains a name(string) and age(integer).\n",
    "#2.use lambda function to filter out the tuples where the age is less than 18\n",
    "\n",
    "people = [(\"Alice\", 23), (\"John\", 17), (\"Andrew\", 25), (\"Kate\", 15)]\n",
    "teens = lambda x: x[1] <= 18\n",
    "result = filter(teens, people)\n",
    "print(list(result))"
   ]
  },
  {
   "cell_type": "code",
   "execution_count": 1,
   "metadata": {},
   "outputs": [
    {
     "name": "stdout",
     "output_type": "stream",
     "text": [
      "8\n"
     ]
    }
   ],
   "source": [
    "#Reduce function \n",
    "def my_function(x):\n",
    "    return lambda a: a * x\n",
    "\n",
    "double = my_function(2)\n",
    "print(double(4))"
   ]
  },
  {
   "cell_type": "code",
   "execution_count": 48,
   "metadata": {},
   "outputs": [
    {
     "name": "stdout",
     "output_type": "stream",
     "text": [
      "15\n",
      "7\n"
     ]
    }
   ],
   "source": [
    "#Exercise-8\n",
    "#Write a lambda function that takes two integers and returns maximum of the two\n",
    "maximum = lambda x, y: x if x > y else y\n",
    "print(maximum(15, 8))\n",
    "print(maximum(3, 7))"
   ]
  },
  {
   "cell_type": "code",
   "execution_count": null,
   "metadata": {},
   "outputs": [
    {
     "name": "stdout",
     "output_type": "stream",
     "text": [
      "120\n"
     ]
    }
   ],
   "source": [
    "#Exercise-9\n",
    "#Write a python program that, find a factorial of a given number\n",
    "def factorial(n):\n",
    "    if n == 0:\n",
    "        return 1\n",
    "    else:\n",
    "        fact = 1\n",
    "        for i in range(1, n+1):\n",
    "            fact *= i\n",
    "\n",
    "        return fact\n",
    "    \n",
    "print(factorial())"
   ]
  },
  {
   "cell_type": "code",
   "execution_count": 88,
   "metadata": {},
   "outputs": [
    {
     "name": "stdout",
     "output_type": "stream",
     "text": [
      "1\n",
      "1\n",
      "2\n",
      "6\n",
      "24\n",
      "2424858401169875856987549316530261243529336396354700842715749979460646110058233651782392648030625575890603295838549136086203631494904372698578181999057212055535785846413969420066573092861481554378165635499319577948946469878800693106187103360224139995239288292467274991657581799887960732860730465294056429604010675825650845592134295845654185424392132561718318353026455262912039002664120813132000602020151818744862796534620281615341820385425346251471878908201301227337883132211649086124629581129201309548248991126780745470297556208250525153383428851713805456555419758707284753260768805845944423382917543868035509410367649517977378961396490420583560768554085728596839435423979501005167390976056828737759722931049053051870481354220566751757226315251920734049093559363656820097662644345104685665152444697669009659982518091310671058073959926600845011866653850725006741331610135998770449096045426206531544154144601729043078225608136613193686346346764203375001081246967670378990121777385901921245133042374777487279240176076181929206652760242551593468206588418766183401939736514661022447416367789422605988204789848476655904174023752533626768590363300938231129606313365312387913130971900390208938471907315110717317435321123464794906710193916413838207147074458529525935478113361841325520841044346267628381902449941524896332350384902526765982148700924154884023605222691782597459599121027544229955922681404443327840648118042191399221650956164672857148227101451532445295161873221075926687151309815858723796054292521542311108190618276056103071140889723197707702368244847779594197140241112042128900654662720100758519336991189420021569389659862373674109453168227154296233208845394442627758282640964050502230911632608683569869755423400072413157317525410032842653580093887735517690412593258359388487289802270353135756659547954667344672901471048389223259683469006995762263469036620522300662493285722212048473141061111827211648276284983691538501299996459350066613212712170474963890532178735800245974574640904674554123815017979113627519922145830691096868313633320304359164703825903963661604335411773033078697699311892617463175229334854531701631075383899708905233041291527887059381689504636267968336033244928031019352467588242769652345533099117594059102256248189810284600657855707971881794779733938869280438373216606816889288287015049782284899585369920877745590840887712363661997881545433844629800189205229597440143179700162824702134957418586285920953284900382720017357876988767296282790084172114532622647998154080918863914038958583660595208167281479883677535909771428614756103440615905873310606657147769597200148222567970379939256596381142850272187439045199365546037482887333248526026065549397730475314476322168067523034600032867511743419691437003992038152628324659432676263448764134014429405489180634364519282138519962363193701386950109467042340571843977537752976341094127822030600936793871334872293490903117072170466054983434825167266916722980296391441044563178977701723309785609111259614474247364528550386532388327264689711775604664427340228901835597557029992960492192464058200400988909295153551200837397817601282679220611104173652358509007521101053095620748168997861050130023817703319787079095235833374426177514286578246903083415169109359323812741314724620593271262917265094024216337214863533448529254632599541703878619604512594846124252613960262726215219134672211844311020666195270036284140614857902974771290503656870984782590335117218368984797972576852801418834170795097602013208317371156612874344638041764532057542786831351076365498540443813006372421380736034740771076764178132559828434447544678633583005046265334346831012385703067191550416222980088761154519553974935287498676582754658553261232252765802371799256016444945115393409561160793126126735836975302341046431089640850574341354122545220831810806852068691732327187184240511538962440151159519314143893886850233861037997459199145386272154940965985357257552760909210073432064000000000000000000000000000000000000000000000000000000000000000000000000000000000000000000000000000000000000000000000000000000000000000000000000000000000000000000000000000000000000000000000000000000000000000000000000000000000000000000000000000000000000000000000000000000000000000000000000000000000000000000000000000000000000000000000000000000000000000000000000000000000000000000000000000\n"
     ]
    }
   ],
   "source": [
    "#Recursive function\n",
    "def find_factorial(x):\n",
    "    if x == 0 or x == 1:\n",
    "        return 1\n",
    "    else:\n",
    "        return (x * find_factorial(x-1))\n",
    "    \n",
    "print(find_factorial(0))\n",
    "print(find_factorial(1))\n",
    "print(find_factorial(2))\n",
    "print(find_factorial(3))\n",
    "print(find_factorial(4))\n",
    "print(find_factorial(1558))"
   ]
  },
  {
   "cell_type": "code",
   "execution_count": null,
   "metadata": {
    "jupyter": {
     "is_executing": true
    }
   },
   "outputs": [],
   "source": [
    "#Exercise-10\n",
    "#Write a recursive function that takes a list and calculate the sum of all the elements in the list\n",
    "def sum_list(lst):\n",
    "    if not lst:\n",
    "        return 0\n",
    "    else: \n",
    "        return lst[0] + sum_list(lst[1:])\n",
    "    \n",
    "print(sum_list([1, 2, 3, 4, 5]))"
   ]
  }
 ],
 "metadata": {
  "kernelspec": {
   "display_name": "Python 3",
   "language": "python",
   "name": "python3"
  },
  "language_info": {
   "codemirror_mode": {
    "name": "ipython",
    "version": 3
   },
   "file_extension": ".py",
   "mimetype": "text/x-python",
   "name": "python",
   "nbconvert_exporter": "python",
   "pygments_lexer": "ipython3",
   "version": "3.13.0"
  }
 },
 "nbformat": 4,
 "nbformat_minor": 2
}
