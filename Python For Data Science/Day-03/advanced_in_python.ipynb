{
 "cells": [
  {
   "cell_type": "code",
   "execution_count": null,
   "metadata": {},
   "outputs": [
    {
     "name": "stdout",
     "output_type": "stream",
     "text": [
      "Something else\n"
     ]
    }
   ],
   "source": [
    "#switch case statement\n",
    "response_code = 203\n",
    "\n",
    "match response_code:\n",
    "    case 200:\n",
    "        print(\"OK\")\n",
    "    case 201:\n",
    "        print(\"Created\")\n",
    "    case 404:\n",
    "        print(\"Not Found\")\n",
    "    case 500:\n",
    "        print(\"Internal Server Error\")\n",
    "    case _:\n",
    "        print(\"Something else\")"
   ]
  },
  {
   "cell_type": "code",
   "execution_count": null,
   "metadata": {},
   "outputs": [
    {
     "name": "stdout",
     "output_type": "stream",
     "text": [
      "The list does not have 2 or 3 elements\n"
     ]
    }
   ],
   "source": [
    "#matching by the length of an iterable\n",
    "numbers = [1, 2, 3]\n",
    "\n",
    "match numbers:\n",
    "    case [x, y]:\n",
    "        print(x * y)\n",
    "    case [x, y, z]:\n",
    "        print(x + y + z)\n",
    "    case _:\n",
    "        print(\"The list does not have 2 or 3 elements\")"
   ]
  },
  {
   "cell_type": "code",
   "execution_count": 14,
   "metadata": {},
   "outputs": [
    {
     "name": "stdout",
     "output_type": "stream",
     "text": [
      "Somethings else\n"
     ]
    }
   ],
   "source": [
    "#exercise-1\n",
    "numbers = [1, 2, 3, 4, 5]\n",
    "\n",
    "match len(numbers):\n",
    "    case 0:\n",
    "        print(\"The list is empty\")\n",
    "    case 1:\n",
    "        print(\"The list has 1 element\")\n",
    "    case 2:\n",
    "        print(\"The list has 2 elements\")\n",
    "    case _:\n",
    "        print(\"Somethings else\")\n",
    "        "
   ]
  },
  {
   "cell_type": "code",
   "execution_count": 22,
   "metadata": {},
   "outputs": [
    {
     "name": "stdout",
     "output_type": "stream",
     "text": [
      "apple\n",
      "banana\n",
      "cherry\n"
     ]
    }
   ],
   "source": [
    "#for loop \n",
    "fruits = [\"apple\", \"banana\", \"cherry\"]\n",
    "\n",
    "for i in fruits:\n",
    "    print(i)"
   ]
  },
  {
   "cell_type": "code",
   "execution_count": 33,
   "metadata": {},
   "outputs": [
    {
     "name": "stdout",
     "output_type": "stream",
     "text": [
      "[49, 25, 64, 16, 81, 144]\n"
     ]
    }
   ],
   "source": [
    "#exercise-2\n",
    "numbers = [7, 5, 8, 4, 9, 12]\n",
    "new_list = []\n",
    "\n",
    "for i in numbers:\n",
    "    new_list.append(i * i)\n",
    "\n",
    "print(new_list)"
   ]
  },
  {
   "cell_type": "code",
   "execution_count": null,
   "metadata": {},
   "outputs": [
    {
     "name": "stdout",
     "output_type": "stream",
     "text": [
      "[1, 4, 9, 16, 25]\n"
     ]
    }
   ],
   "source": [
    "#exercise-3\n",
    "num = int(input(\"Enter number: \"))\n",
    "square_numbers = []\n",
    "\n",
    "for i in range(1, num + 1):\n",
    "    square_numbers.append(i * i)\n",
    "\n",
    "print(square_numbers)\n"
   ]
  },
  {
   "cell_type": "code",
   "execution_count": 1,
   "metadata": {},
   "outputs": [
    {
     "name": "stdout",
     "output_type": "stream",
     "text": [
      "[1, 4, 9, 16, 25]\n"
     ]
    }
   ],
   "source": [
    "#list comprehension\n",
    "numbers = [1, 2, 3, 4, 5]\n",
    "\n",
    "squared_numbers = [i * i for i in numbers]\n",
    "print(squared_numbers)"
   ]
  },
  {
   "cell_type": "code",
   "execution_count": 4,
   "metadata": {},
   "outputs": [
    {
     "name": "stdout",
     "output_type": "stream",
     "text": [
      "[64, 144, 25, 16]\n"
     ]
    }
   ],
   "source": [
    "#exercise-4\n",
    "numbers = [8, 12, -1, 5, 4, 0, -3]\n",
    "\n",
    "squared_numbers = [i * i for i in numbers if i > 0]\n",
    "print(squared_numbers)"
   ]
  },
  {
   "cell_type": "code",
   "execution_count": 10,
   "metadata": {},
   "outputs": [
    {
     "name": "stdout",
     "output_type": "stream",
     "text": [
      "[1, 2, 3, 4, 5]\n",
      "5\n",
      "4\n",
      "3\n",
      "2\n",
      "1\n",
      "[]\n"
     ]
    }
   ],
   "source": [
    "#while loop\n",
    "numbers = [1, 2, 3, 4, 5]\n",
    "print(numbers)\n",
    "\n",
    "while numbers:\n",
    "    print(numbers.pop())\n",
    "\n",
    "print(numbers)"
   ]
  },
  {
   "cell_type": "code",
   "execution_count": 20,
   "metadata": {},
   "outputs": [
    {
     "name": "stdout",
     "output_type": "stream",
     "text": [
      "[1, 4, 9]\n"
     ]
    }
   ],
   "source": [
    "#exercise-5\n",
    "num = int(input(\"Enter number: \"))\n",
    "square_numbers = []\n",
    "count = 1\n",
    "temp_square = 1\n",
    "\n",
    "while temp_square <= num:\n",
    "    square_numbers.append(temp_square)\n",
    "    count += 1\n",
    "    temp_square = count * count\n",
    "\n",
    "print(square_numbers)"
   ]
  },
  {
   "cell_type": "code",
   "execution_count": 23,
   "metadata": {},
   "outputs": [
    {
     "name": "stdout",
     "output_type": "stream",
     "text": [
      "1\n",
      "2\n",
      "3\n"
     ]
    }
   ],
   "source": [
    "#break keyword\n",
    "numbers = [1, 2, 3, 0, 5]\n",
    "\n",
    "for i in numbers:\n",
    "    if i == 0:\n",
    "        break\n",
    "    else:\n",
    "        print(i)"
   ]
  },
  {
   "cell_type": "code",
   "execution_count": 24,
   "metadata": {},
   "outputs": [
    {
     "name": "stdout",
     "output_type": "stream",
     "text": [
      "1\n",
      "2\n",
      "3\n",
      "5\n"
     ]
    }
   ],
   "source": [
    "#continue keyword\n",
    "numbers = [1, 2, 3, 0, 5]\n",
    "\n",
    "for i in numbers:\n",
    "    if i == 0:\n",
    "        continue\n",
    "    else:\n",
    "        print(i)"
   ]
  },
  {
   "cell_type": "code",
   "execution_count": 26,
   "metadata": {},
   "outputs": [
    {
     "name": "stdout",
     "output_type": "stream",
     "text": [
      "1\n",
      "4\n",
      "9\n",
      "16\n",
      "25\n",
      "36\n",
      "49\n",
      "64\n",
      "81\n",
      "100\n"
     ]
    }
   ],
   "source": [
    "#exercise-6\n",
    "while True:\n",
    "    num = int(input(\"Enter number: \"))\n",
    "    if num == 0:\n",
    "        break\n",
    "    else:\n",
    "        print(num * num)"
   ]
  },
  {
   "cell_type": "code",
   "execution_count": null,
   "metadata": {},
   "outputs": [
    {
     "name": "stdout",
     "output_type": "stream",
     "text": [
      "tuple 1 = name John\n",
      "tuple 2 = age 30\n",
      "tuple 3 = city New York\n"
     ]
    }
   ],
   "source": [
    "#key value pairs\n",
    "person = {\n",
    "    \"name\": \"John\",\n",
    "    \"age\": 30,\n",
    "    \"city\": \"New York\"\n",
    "}\n",
    "\n",
    "count = 1\n",
    "\n",
    "#unpacking\n",
    "for key, value in person.items():\n",
    "    print(\"tuple\", count, \"=\", key, value)\n",
    "    count += 1\n"
   ]
  },
  {
   "cell_type": "code",
   "execution_count": 36,
   "metadata": {},
   "outputs": [
    {
     "name": "stdout",
     "output_type": "stream",
     "text": [
      "60\n"
     ]
    }
   ],
   "source": [
    "#functional programming\n",
    "def calculate_circumference(width, height):\n",
    "    return (width * 2) + (height * 2)\n",
    "\n",
    "print(calculate_circumference(10, 20))"
   ]
  },
  {
   "cell_type": "code",
   "execution_count": null,
   "metadata": {},
   "outputs": [
    {
     "name": "stdout",
     "output_type": "stream",
     "text": [
      "78.5\n"
     ]
    }
   ],
   "source": [
    "#exercise-7\n",
    "def calculate_area(radius):\n",
    "    return (3.14 * radius * radius)\n",
    "\n",
    "print(calculate_area(5))"
   ]
  },
  {
   "cell_type": "code",
   "execution_count": null,
   "metadata": {},
   "outputs": [
    {
     "name": "stdout",
     "output_type": "stream",
     "text": [
      "8\n",
      "9\n"
     ]
    }
   ],
   "source": [
    "#default arguments\n",
    "#default arguments are in the right hand side on function\n",
    "def add_numbers(a , b = 5):\n",
    "    return (a + b)\n",
    "\n",
    "print(add_numbers(3))\n",
    "print(add_numbers(3 , 6))"
   ]
  },
  {
   "cell_type": "code",
   "execution_count": 42,
   "metadata": {},
   "outputs": [
    {
     "name": "stdout",
     "output_type": "stream",
     "text": [
      "10\n"
     ]
    }
   ],
   "source": [
    "#positional arguments\n",
    "def add_numbers(a , b):\n",
    "    return (a + b)\n",
    "\n",
    "print(add_numbers(4 , 6))"
   ]
  },
  {
   "cell_type": "code",
   "execution_count": null,
   "metadata": {},
   "outputs": [
    {
     "name": "stdout",
     "output_type": "stream",
     "text": [
      "7\n"
     ]
    }
   ],
   "source": [
    "#keyword arguments\n",
    "def add_numbers(a , b):\n",
    "    return (a + b)\n",
    "\n",
    "print(add_numbers(b = 4 , a = 3))"
   ]
  },
  {
   "cell_type": "code",
   "execution_count": null,
   "metadata": {},
   "outputs": [
    {
     "name": "stdout",
     "output_type": "stream",
     "text": [
      "420\n"
     ]
    }
   ],
   "source": [
    "#exercise-8\n",
    "def calculate_total(price, qty, discount = 10, tax = 5):\n",
    "    total = price * qty\n",
    "    discounted_price = total - discount\n",
    "    taxed_price = discounted_price + tax\n",
    "    return taxed_price\n",
    "\n",
    "print(calculate_total(100, 5, 100, 20))\n"
   ]
  },
  {
   "cell_type": "code",
   "execution_count": null,
   "metadata": {},
   "outputs": [
    {
     "name": "stdout",
     "output_type": "stream",
     "text": [
      "I love computer programming,\n",
      "I am student of IJSE,\n",
      "I live in Galle\n"
     ]
    }
   ],
   "source": [
    "#multiline string\n",
    "my_str = '''I love computer programming,\n",
    "I am student of IJSE,\n",
    "I live in Galle'''\n",
    "\n",
    "print(my_str)"
   ]
  },
  {
   "cell_type": "code",
   "execution_count": null,
   "metadata": {},
   "outputs": [
    {
     "name": "stdout",
     "output_type": "stream",
     "text": [
      "11\n",
      "W\n"
     ]
    }
   ],
   "source": [
    "#string formatting\n",
    "my_str = \"Hello World\"\n",
    "print(len(my_str))\n",
    "print(my_str[6])"
   ]
  },
  {
   "cell_type": "code",
   "execution_count": null,
   "metadata": {},
   "outputs": [
    {
     "name": "stdout",
     "output_type": "stream",
     "text": [
      "HELLO WORLD\n",
      "hello world\n"
     ]
    }
   ],
   "source": [
    "#upper and lower case\n",
    "my_str = \"Hello World\"\n",
    "\n",
    "print(my_str.upper())\n",
    "print(my_str.lower())"
   ]
  },
  {
   "cell_type": "code",
   "execution_count": 76,
   "metadata": {},
   "outputs": [
    {
     "name": "stdout",
     "output_type": "stream",
     "text": [
      "  Hello World   \n",
      "Hello World\n"
     ]
    }
   ],
   "source": [
    "#removing white spaces\n",
    "my_str = \"  Hello World   \"\n",
    "print(my_str)\n",
    "\n",
    "my_str = my_str.strip()\n",
    "print(my_str)"
   ]
  }
 ],
 "metadata": {
  "kernelspec": {
   "display_name": "Python 3",
   "language": "python",
   "name": "python3"
  },
  "language_info": {
   "codemirror_mode": {
    "name": "ipython",
    "version": 3
   },
   "file_extension": ".py",
   "mimetype": "text/x-python",
   "name": "python",
   "nbconvert_exporter": "python",
   "pygments_lexer": "ipython3",
   "version": "3.13.0"
  }
 },
 "nbformat": 4,
 "nbformat_minor": 2
}
