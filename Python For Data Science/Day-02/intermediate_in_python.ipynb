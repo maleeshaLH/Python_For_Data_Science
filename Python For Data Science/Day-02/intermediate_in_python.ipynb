{
 "cells": [
  {
   "cell_type": "code",
   "execution_count": 1,
   "metadata": {},
   "outputs": [
    {
     "name": "stdout",
     "output_type": "stream",
     "text": [
      "('apple', 8, 1)\n",
      "8\n",
      "3\n",
      "<class 'tuple'>\n",
      "<class 'int'>\n",
      "<class 'tuple'>\n"
     ]
    }
   ],
   "source": [
    "#tuple is a collection which is ordered and unchangeable. Allows duplicate members.\n",
    "my_tuple = ('apple',8,1)\n",
    "print(my_tuple)\n",
    "my_tuple[1] \n",
    "print(my_tuple[1])\n",
    "print(len(my_tuple))\n",
    "print(type(my_tuple))\n",
    "my_tuple_1 =(8)\n",
    "my_tuple_2 =(\"apple\",)\n",
    "print(type(my_tuple_1))\n",
    "print(type(my_tuple_2))"
   ]
  },
  {
   "cell_type": "code",
   "execution_count": 9,
   "metadata": {},
   "outputs": [
    {
     "name": "stdout",
     "output_type": "stream",
     "text": [
      "[1, 2, 3, 4, 5]\n",
      "(1, 2, 15, 4, 5)\n"
     ]
    }
   ],
   "source": [
    "#tuple change value\n",
    "my_tuple_1 = (1,2,3,4,5)\n",
    "my_list_1 = list(my_tuple_1)\n",
    "print(my_list_1)\n",
    "my_list_1[2] = 15\n",
    "my_tuple_1 = tuple(my_list_1)\n",
    "print(my_tuple_1)"
   ]
  },
  {
   "cell_type": "code",
   "execution_count": 10,
   "metadata": {},
   "outputs": [
    {
     "name": "stdout",
     "output_type": "stream",
     "text": [
      "banana\n",
      "False\n"
     ]
    }
   ],
   "source": [
    "\n",
    "#nested tuple \n",
    "my_tuple_1 = ((1,3,4),(\"apple\",\"banana\",\"grapes\"),(True,False))\n",
    "print(my_tuple_1[1][1])\n",
    "print(my_tuple_1[2][1])"
   ]
  },
  {
   "cell_type": "code",
   "execution_count": 16,
   "metadata": {},
   "outputs": [
    {
     "name": "stdout",
     "output_type": "stream",
     "text": [
      "<class 'range'>\n",
      "5\n",
      "5\n"
     ]
    }
   ],
   "source": [
    "#range\n",
    "range_1 = range(1,11,2)\n",
    "print(type(range_1))\n",
    "print(range_1[2])\n",
    "print(len(range_1))"
   ]
  },
  {
   "cell_type": "code",
   "execution_count": 18,
   "metadata": {},
   "outputs": [
    {
     "name": "stdout",
     "output_type": "stream",
     "text": [
      "{'name': 'sugar', 'price': 270.0, 'weight': '1kg'}\n",
      "<class 'dict'>\n",
      "sugar\n",
      "270.0\n",
      "{'name': 'sugar', 'price': 300.0, 'weight': '1kg'}\n",
      "sugar\n",
      "300.0\n"
     ]
    }
   ],
   "source": [
    "#dictionary is a collection which is unordered, changeable and indexed. No duplicate members.\n",
    "my_dict = {\n",
    "    \"name\":\"sugar\",\n",
    "    \"price\":250.20,\n",
    "    \"weight\":\"1kg\",\n",
    "    \"price\":270.00\n",
    "}\n",
    "print(my_dict)\n",
    "print(type(my_dict))\n",
    "print(my_dict[\"name\"])\n",
    "print(my_dict.get(\"price\"))\n",
    "\n",
    "#change value\n",
    "my_dict[\"price\"] = 300.00\n",
    "print(my_dict)\n",
    "print(my_dict[\"name\"])\n",
    "print(my_dict.get(\"price\"))"
   ]
  },
  {
   "cell_type": "code",
   "execution_count": 20,
   "metadata": {},
   "outputs": [
    {
     "name": "stdout",
     "output_type": "stream",
     "text": [
      "{'name': 'sugar', 'price': 250.0, 'weight': '1kg'}\n",
      "2024-11-20\n",
      "{'name': 'sugar', 'price': 300.0, 'weight': '3kg'}\n",
      "{'name': 'sugar', 'price': 300.0, 'weight': '3kg', 'color': 'white'}\n",
      "{'name': 'sugar', 'price': 300.0, 'color': 'white'}\n",
      "{'name': 'sugar', 'price': 300.0}\n",
      "{}\n",
      "0\n"
     ]
    }
   ],
   "source": [
    "#loop through dictionary\n",
    "my_dict = {\n",
    "    \"name\":\"sugar\",\n",
    "    \"price\":250.00,\n",
    "    \"weight\":\"1kg\"\n",
    "}\n",
    "print(my_dict)\n",
    "print(my_dict.get(\"expire_date\",\"2024-11-20\"))\n",
    "\n",
    "#multiple values update  \n",
    "my_dict.update({\n",
    "    \"price\":300.00,\"weight\":\"3kg\"\n",
    "})\n",
    "print(my_dict)\n",
    "\n",
    "#add item\n",
    "my_dict[\"color\"] = \"white\"\n",
    "print(my_dict)\n",
    "\n",
    "#remove item\n",
    "my_dict.pop(\"weight\")\n",
    "print(my_dict)\n",
    "\n",
    "#remove last item\n",
    "del my_dict[\"color\"]\n",
    "print(my_dict)\n",
    "\n",
    "#clear dictionary\n",
    "my_dict.clear()\n",
    "print(my_dict)\n",
    "print(len(my_dict))"
   ]
  },
  {
   "cell_type": "code",
   "execution_count": 21,
   "metadata": {},
   "outputs": [
    {
     "name": "stdout",
     "output_type": "stream",
     "text": [
      "{'name': 'sugar', 'price': 250.0, 'weight': '1kg'}\n"
     ]
    }
   ],
   "source": [
    "\n",
    "#copy dictionary\n",
    "my_dict = {\n",
    "    \"name\":\"sugar\",\n",
    "    \"price\":250.00,\n",
    "    \"weight\":\"1kg\"\n",
    "}\n",
    "\n",
    "my_dict_1  = my_dict.copy()\n",
    "print(my_dict_1)"
   ]
  },
  {
   "cell_type": "code",
   "execution_count": null,
   "metadata": {},
   "outputs": [
    {
     "name": "stdout",
     "output_type": "stream",
     "text": [
      "1024\n",
      "2\n",
      "1\n"
     ]
    }
   ],
   "source": [
    "#exponential \n",
    "x,y =4,5\n",
    "print(x**y)\n",
    "\n",
    "#floor division\n",
    "y = 9//4\n",
    "print(y)\n",
    "\n",
    "#modulus\n",
    "y = 7%3\n",
    "print(y)"
   ]
  },
  {
   "cell_type": "code",
   "execution_count": 29,
   "metadata": {},
   "outputs": [
    {
     "name": "stdout",
     "output_type": "stream",
     "text": [
      "5\n",
      "25\n",
      "0.7142857142857143\n",
      "5\n",
      "78125\n",
      "0\n"
     ]
    }
   ],
   "source": [
    "#addition\n",
    "x = x + 5\n",
    "# x += 5 \n",
    "print(x)\n",
    "\n",
    "#subtraction\n",
    "x = x * 5\n",
    "# x *= 5\n",
    "print(x)\n",
    "\n",
    "#multiplication\n",
    "x = 5\n",
    "x /= 7\n",
    "print(x)\n",
    "\n",
    "#division\n",
    "x = 5\n",
    "# x %= 7\n",
    "print(x)\n",
    "\n",
    "#exponential and assign\n",
    "x = 5 \n",
    "x **= 7\n",
    "print(x)\n",
    "\n",
    "#floor division and assign\n",
    "x = 5\n",
    "x //= 7\n",
    "print(x)"
   ]
  },
  {
   "cell_type": "code",
   "execution_count": 31,
   "metadata": {},
   "outputs": [
    {
     "name": "stdout",
     "output_type": "stream",
     "text": [
      "False\n",
      "True\n",
      "True\n",
      "False\n"
     ]
    }
   ],
   "source": [
    "#comparison operator\n",
    "x=5\n",
    "y=6\n",
    "print(x == y)\n",
    "print(x != y)\n",
    "print(x <= y)\n",
    "print(x >= y)"
   ]
  },
  {
   "cell_type": "code",
   "execution_count": 6,
   "metadata": {},
   "outputs": [
    {
     "name": "stdout",
     "output_type": "stream",
     "text": [
      "True\n",
      "True\n",
      "False\n"
     ]
    }
   ],
   "source": [
    "#logical operator\n",
    "x=5\n",
    "y=6\n",
    "print(x<10 and y<8)\n",
    "print(x<10 or y<8)\n",
    "print(not x>1)"
   ]
  },
  {
   "cell_type": "code",
   "execution_count": 33,
   "metadata": {},
   "outputs": [
    {
     "name": "stdout",
     "output_type": "stream",
     "text": [
      "False\n"
     ]
    }
   ],
   "source": [
    "#identity operator\n",
    "x = 5\n",
    "y = 6\n",
    "print( x is y)"
   ]
  },
  {
   "cell_type": "code",
   "execution_count": 34,
   "metadata": {},
   "outputs": [
    {
     "name": "stdout",
     "output_type": "stream",
     "text": [
      "False\n"
     ]
    }
   ],
   "source": [
    "#membership operator\n",
    "x = 1000\n",
    "y = 1000\n",
    "print(x is y)"
   ]
  },
  {
   "cell_type": "code",
   "execution_count": 35,
   "metadata": {},
   "outputs": [
    {
     "name": "stdout",
     "output_type": "stream",
     "text": [
      "True\n",
      "False\n",
      "True\n"
     ]
    }
   ],
   "source": [
    "#in operator\n",
    "my_list_1 = [8,10,12,13,15]\n",
    "print(10 in my_list_1)\n",
    "print(11 in my_list_1)\n",
    "print(11 not in my_list_1)"
   ]
  },
  {
   "cell_type": "code",
   "execution_count": 36,
   "metadata": {},
   "outputs": [
    {
     "name": "stdout",
     "output_type": "stream",
     "text": [
      "0\n",
      "15\n",
      "15\n",
      "-6\n"
     ]
    }
   ],
   "source": [
    "#bitwise operator\n",
    "x = 5\n",
    "y = 10\n",
    "# And\n",
    "z = x & y\n",
    "print(z)\n",
    "# or\n",
    "z = x|y\n",
    "print(z)\n",
    "# xor\n",
    "z = x^y\n",
    "print(z)\n",
    "#not\n",
    "x = 5\n",
    "print(~x)"
   ]
  },
  {
   "cell_type": "code",
   "execution_count": null,
   "metadata": {},
   "outputs": [
    {
     "name": "stdout",
     "output_type": "stream",
     "text": [
      "10\n"
     ]
    }
   ],
   "source": [
    "#left shift\n",
    "x = 5\n",
    "y = 10\n",
    "if(x>y):\n",
    "    print(x)\n",
    "else:\n",
    "    print(y)\n"
   ]
  },
  {
   "cell_type": "code",
   "execution_count": null,
   "metadata": {},
   "outputs": [
    {
     "name": "stdout",
     "output_type": "stream",
     "text": [
      "5\n",
      "<class 'str'>\n"
     ]
    }
   ],
   "source": [
    "#right shift\n",
    "x = input(\"Enter a number:\")\n",
    "print(x)\n",
    "\n",
    "#check type\n",
    "print(type(x))"
   ]
  },
  {
   "cell_type": "code",
   "execution_count": null,
   "metadata": {},
   "outputs": [
    {
     "name": "stdout",
     "output_type": "stream",
     "text": [
      "Odd\n"
     ]
    }
   ],
   "source": [
    "#convert to integer\n",
    "x = int(input(\"Enter number: \")) \n",
    "if x % 2 == 0: \n",
    "    print(\"Even\")\n",
    "else:\n",
    "    print(\"Odd\")"
   ]
  },
  {
   "cell_type": "code",
   "execution_count": null,
   "metadata": {},
   "outputs": [
    {
     "name": "stdout",
     "output_type": "stream",
     "text": [
      " not a multification of 7\n"
     ]
    }
   ],
   "source": [
    "#check positive or negative\n",
    "x = int(input(\"Enter number:\"))\n",
    "if x > 0 :\n",
    "   if x % 7 == 0 :\n",
    "    print(\"multiplication of 7\")\n",
    "   else:\n",
    "    print(\" not a multiplication of 7\")\n",
    "else:\n",
    "    print(\"negative\")       "
   ]
  },
  {
   "cell_type": "code",
   "execution_count": 41,
   "metadata": {},
   "outputs": [
    {
     "name": "stdout",
     "output_type": "stream",
     "text": [
      "x is less than y\n"
     ]
    }
   ],
   "source": [
    "#else if\n",
    "x =5\n",
    "y =10\n",
    "if( x == y):\n",
    "    print(\"numbers are equal\")\n",
    "elif x> y:\n",
    "    print(\"x is greater than y\")\n",
    "else:\n",
    "    print(\"x is less than y\")"
   ]
  },
  {
   "cell_type": "code",
   "execution_count": 42,
   "metadata": {},
   "outputs": [
    {
     "name": "stdout",
     "output_type": "stream",
     "text": [
      "B\n"
     ]
    }
   ],
   "source": [
    "#task 01 \n",
    "marks = int(input(\"Enter your marks: \"))\n",
    "\n",
    "if 85 <= marks <= 100: \n",
    "    print(\"A\")\n",
    "elif 75 <= marks < 85: \n",
    "    print(\"B\")\n",
    "elif 65 <= marks < 75: \n",
    "    print(\"C\")\n",
    "elif 50 <= marks < 65:  \n",
    "    print(\"D\")\n",
    "elif 0 <= marks < 50:   \n",
    "    print(\"F\")\n",
    "else:\n",
    "    print(\"Invalid marks\") "
   ]
  },
  {
   "cell_type": "code",
   "execution_count": 46,
   "metadata": {},
   "outputs": [
    {
     "name": "stdout",
     "output_type": "stream",
     "text": [
      "D\n"
     ]
    }
   ],
   "source": [
    "#short code\n",
    "marks = int(input(\"Enter your marks: \"))\n",
    "\n",
    "if 0 <= marks <= 100:\n",
    "    if marks >= 85:\n",
    "        print(\"A\")\n",
    "    elif marks >= 75:\n",
    "        print(\"B\")\n",
    "    elif marks >= 65:\n",
    "        print(\"C\")\n",
    "    elif marks >= 50:\n",
    "        print(\"D\")\n",
    "    else:\n",
    "        print(\"F\")\n",
    "else:\n",
    "    print(\"Invalid marks\")"
   ]
  },
  {
   "cell_type": "code",
   "execution_count": 47,
   "metadata": {},
   "outputs": [
    {
     "name": "stdout",
     "output_type": "stream",
     "text": [
      "[10, 9, 15]\n"
     ]
    }
   ],
   "source": [
    "#start to first index and set data 2to 2\n",
    "my_list = [8,10,12,9,11,15,16,4]\n",
    "print(my_list[1:6:2])"
   ]
  },
  {
   "cell_type": "code",
   "execution_count": null,
   "metadata": {},
   "outputs": [
    {
     "name": "stdout",
     "output_type": "stream",
     "text": [
      "Even\n"
     ]
    }
   ],
   "source": [
    "#odd or even\n",
    "x = 10\n",
    "result = \"Even\" if x% 2 == 0 else \" Odd\"\n",
    "print(result)"
   ]
  },
  {
   "cell_type": "code",
   "execution_count": 49,
   "metadata": {},
   "outputs": [
    {
     "name": "stdout",
     "output_type": "stream",
     "text": [
      "{'a': 1, 'b': 3}\n",
      "2\n"
     ]
    }
   ],
   "source": [
    "#dict assign values\n",
    "d_1 = {\"a\":1}\n",
    "d_2 = {\"b\":3}\n",
    "d_3 = d_1 | d_2\n",
    "print(d_3)\n",
    "print(len(d_3))"
   ]
  },
  {
   "cell_type": "code",
   "execution_count": 50,
   "metadata": {},
   "outputs": [
    {
     "name": "stdout",
     "output_type": "stream",
     "text": [
      "10 12 14\n"
     ]
    }
   ],
   "source": [
    "#value assign\n",
    "my_list = [10,12,14]\n",
    "x,y,z = my_list\n",
    "print(x,y,z)"
   ]
  },
  {
   "cell_type": "code",
   "execution_count": 51,
   "metadata": {},
   "outputs": [
    {
     "name": "stdout",
     "output_type": "stream",
     "text": [
      "1 2 3\n"
     ]
    }
   ],
   "source": [
    "# tuple assign values\n",
    "my_tuple_1 = (1,2,3)\n",
    "x,y,z = my_tuple_1\n",
    "print(x,y,z)"
   ]
  }
 ],
 "metadata": {
  "kernelspec": {
   "display_name": "Python 3",
   "language": "python",
   "name": "python3"
  },
  "language_info": {
   "codemirror_mode": {
    "name": "ipython",
    "version": 3
   },
   "file_extension": ".py",
   "mimetype": "text/x-python",
   "name": "python",
   "nbconvert_exporter": "python",
   "pygments_lexer": "ipython3",
   "version": "3.13.0"
  }
 },
 "nbformat": 4,
 "nbformat_minor": 2
}
